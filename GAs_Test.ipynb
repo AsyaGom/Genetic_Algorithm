{
 "cells": [
  {
   "cell_type": "code",
   "execution_count": 1,
   "metadata": {},
   "outputs": [],
   "source": [
    "#Велосипед, если не установлен модуль\n",
    "try:\n",
    "    from tqdm import tqdm\n",
    "except:\n",
    "    !pip install tqdm\n",
    "    from tqdm import tqdm\n",
    "\n",
    "\n",
    "\n",
    "\n",
    "import functions as f\n",
    "import func_generator as fg\n",
    "\n",
    "\n",
    "from GA import GA\n",
    "import PARAMS as P\n",
    "from Base import Base\n",
    "\n",
    "\n",
    "import random\n",
    "import numpy as np\n",
    "from matplotlib import pyplot as plt\n",
    "\n",
    "\n",
    "######################################################################################\n",
    "func_list = np.array([f.linear, f.sin, f.ln, f.sqrt, f.my_abs, f.sqr, f.hyper, f.exp])"
   ]
  },
  {
   "cell_type": "markdown",
   "metadata": {},
   "source": [
    "\n",
    "\n",
    "\n",
    "\n",
    "\n",
    "\n",
    "\n",
    "\n",
    "\n"
   ]
  },
  {
   "cell_type": "markdown",
   "metadata": {},
   "source": [
    "\n",
    "\n",
    "\n",
    "\n",
    "\n",
    "\n",
    "\n",
    "\n",
    "\n"
   ]
  },
  {
   "cell_type": "markdown",
   "metadata": {},
   "source": [
    "\n",
    "\n",
    "\n",
    "\n",
    "\n",
    "\n",
    "\n",
    "\n",
    "\n"
   ]
  },
  {
   "cell_type": "markdown",
   "metadata": {},
   "source": [
    "\n",
    "\n",
    "\n",
    "\n",
    "\n",
    "\n",
    "\n",
    "\n",
    "\n"
   ]
  },
  {
   "cell_type": "markdown",
   "metadata": {},
   "source": [
    "\n",
    "\n",
    "\n",
    "\n",
    "\n",
    "\n",
    "\n",
    "\n",
    "\n"
   ]
  },
  {
   "cell_type": "markdown",
   "metadata": {},
   "source": [
    "# Настройка области определения"
   ]
  },
  {
   "cell_type": "code",
   "execution_count": 2,
   "metadata": {},
   "outputs": [],
   "source": [
    "#Граници по оси Х\n",
    "left_border = 0 #от\n",
    "right_border = 100 #до\n",
    "\n",
    "\n",
    "##########\n",
    "interval = [left_border, right_border]"
   ]
  },
  {
   "cell_type": "markdown",
   "metadata": {},
   "source": [
    "# Генерация функции"
   ]
  },
  {
   "cell_type": "code",
   "execution_count": 3,
   "metadata": {},
   "outputs": [
    {
     "name": "stdout",
     "output_type": "stream",
     "text": [
      " +0.0984771045 × |+1.009715x -0.057494| -0.3448925784 × ln(+1.526887x -2.895346) -1.152974\n"
     ]
    },
    {
     "data": {
      "image/png": "[encoded data removed]",
      "text/plain": [
       "<Figure size 432x288 with 1 Axes>"
      ]
     },
     "metadata": {
      "needs_background": "light"
     },
     "output_type": "display_data"
    }
   ],
   "source": [
    "#число базовых ф-й, уч-х в генерации основной [1;8]\n",
    "kol_funcs = 2 \n",
    "\n",
    "\n",
    "#Смещение по оси Y\n",
    "dy_down = -2     # от\n",
    "dy_up   = 2      # до\n",
    "\n",
    "\n",
    "#Непонятный параметр\n",
    "chances_count = 2\n",
    "\n",
    "####################\n",
    "#Генерируем саму ф-ю\n",
    "f, f_str = fg.generate_complex_function(func_list, \n",
    "                                         complexity = kol_funcs, \n",
    "                                         chances_count = chances_count, \n",
    "                                         dy_range = [dy_down, dy_up]\n",
    "                                       )\n",
    "\n",
    "print(f_str)\n",
    "plt.plot(np.linspace(interval[0],interval[1],10000),\n",
    "         [f(x) for x in np.linspace(interval[0],interval[1],10000)]\n",
    ")\n",
    "\n",
    "plt.grid()\n",
    "plt.xlabel('X')\n",
    "plt.ylabel('Y')\n",
    "\n",
    "plt.show()"
   ]
  },
  {
   "cell_type": "markdown",
   "metadata": {},
   "source": [
    "# Настройка генерации датасета"
   ]
  },
  {
   "cell_type": "code",
   "execution_count": 4,
   "metadata": {},
   "outputs": [
    {
     "data": {
      "image/png": "[encoded data removed]",
      "text/plain": [
       "<Figure size 432x288 with 1 Axes>"
      ]
     },
     "metadata": {
      "needs_background": "light"
     },
     "output_type": "display_data"
    }
   ],
   "source": [
    "dots_count = 100   # число точек в датасете\n",
    "noise      = 0.05   # величина шума (чем больше - тем зашумлённей данные)\n",
    "\n",
    "\n",
    "\n",
    "####################\n",
    "# Создаём датасет\n",
    "data = fg.generate_dataset(f, dots_count = dots_count, x_range = interval, noise_ratio = noise)\n",
    "\n",
    "plt.grid()\n",
    "plt.xlabel('X')\n",
    "plt.ylabel('Y')\n",
    "\n",
    "plt.plot(np.linspace(interval[0],interval[1],10000),\n",
    "         [f(x) for x in np.linspace(interval[0],interval[1],10000)],\n",
    "         'r'\n",
    ")\n",
    "\n",
    "plt.plot(data[0], data[1], '.g', alpha = 0.9)\n",
    "plt.show()"
   ]
  },
  {
   "cell_type": "markdown",
   "metadata": {},
   "source": [
    "# Задание параметров алгоритма\n",
    "\n",
    "Инструкция по настройке:\n",
    "tip - какой вариант алгоритма будет использоваться, может принимать значения:\n",
    "- 0 - первая версия (выбираем 2 лучших представителя, делаем кучу копий, в каждой копии заменяем по одному нуклеотиду)\n",
    "- 1 - Канонический ГА\n",
    "- 2 - Генитор\n",
    "- 3 - СНС\n",
    "- 4 - С нефиксированным размером популяции (оооооооооочень медленный)\n",
    "\n",
    "steps - число итераций в алгоритме"
   ]
  },
  {
   "cell_type": "code",
   "execution_count": 5,
   "metadata": {
    "scrolled": false
   },
   "outputs": [
    {
     "name": "stderr",
     "output_type": "stream",
     "text": [
      "100%|██████████| 10000/10000 [04:56<00:00, 33.68it/s]\n"
     ]
    },
    {
     "name": "stdout",
     "output_type": "stream",
     "text": [
      "h(x) =   -0.4549426032 × (0.577538x +0.823633) \n",
      " +3.8956631880 × sin(0.025393x -0.096312) \n",
      " +2.6905103608 × ln(0.433959x +4.831320) \n",
      " +0.4321303590 × √(1.540365x +2.189601) \n",
      " +2.8668685797 × |0.012412x -0.337837| \n",
      " +1.7816333337 × (0.201940x +0.140264)² \n",
      " +1.0410089197 × (0.143843x +0.512816)³ \n",
      " +3.0553842910 × exp(0.001858x -0.252618) \n",
      " -10.738001\n",
      "\n",
      "Значение целевой функции:\n",
      "h_pr = [0.75448476];\n",
      "f_pr = [0.25877214]\n",
      "\n",
      "СКО:\n",
      "h_sko = [0.08686108];\n",
      "f_sko = [0.05086965]\n"
     ]
    },
    {
     "data": {
      "image/png": "[encoded data removed]",
      "text/plain": [
       "<Figure size 432x288 with 1 Axes>"
      ]
     },
     "metadata": {
      "needs_background": "light"
     },
     "output_type": "display_data"
    }
   ],
   "source": [
    "tip = 2 #от 0 до 4\n",
    "steps = 10000\n",
    "\n",
    "\n",
    "##########################################################\n",
    "##########################################################\n",
    "##########################################################\n",
    "h, h_pr, h_str = Base[\"funcs\"][\"Go\"](GA[tip], func_list, data, steps)\n",
    "\n",
    "X = np.linspace(interval[0], interval[1], 10000)\n",
    "fY = [f(x) for x in X]\n",
    "hY = [h(x) for x in X]\n",
    "\n",
    "plt.grid()\n",
    "plt.xlabel('X')\n",
    "plt.ylabel('Y')\n",
    "\n",
    "plt.plot(X, fY, 'r')\n",
    "plt.plot(X, hY, 'g', alpha = 0.99)\n",
    "plt.plot(data[0], data[1], '.b', alpha = 0.75)\n",
    "\n",
    "\n",
    "print('h(x) = ', h_str)\n",
    "\n",
    "print(\"\\nЗначение целевой функции:\")\n",
    "print('h_pr = {};\\nf_pr = {}'.format(h_pr, Base[\"funcs\"][\"E\"](data[1],[f(x)for x in data[0]])))\n",
    "\n",
    "print(\"\\nСКО:\")\n",
    "print('h_sko = {};\\nf_sko = {}'.format(\n",
    "    (h_pr/len(data[0]))**0.5, \n",
    "    (Base[\"funcs\"][\"E\"](data[1],[f(x)for x in data[0]])/len(data[0]))**0.5\n",
    "))\n",
    "\n",
    "plt.show()"
   ]
  }
 ],
 "metadata": {
  "kernelspec": {
   "display_name": "Python 3",
   "language": "python",
   "name": "python3"
  },
  "language_info": {
   "codemirror_mode": {
    "name": "ipython",
    "version": 3
   },
   "file_extension": ".py",
   "mimetype": "text/x-python",
   "name": "python",
   "nbconvert_exporter": "python",
   "pygments_lexer": "ipython3",
   "version": "3.7.7"
  }
 },
 "nbformat": 4,
 "nbformat_minor": 2
}
