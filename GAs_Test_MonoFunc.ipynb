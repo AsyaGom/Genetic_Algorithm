{
 "cells": [
  {
   "cell_type": "markdown",
   "metadata": {},
   "source": [
    "# Для самостоятельного задания 1-й функций"
   ]
  },
  {
   "cell_type": "code",
   "execution_count": 1,
   "metadata": {},
   "outputs": [],
   "source": [
    "#Велосипед, если не установлен модуль\n",
    "try:\n",
    "    from tqdm import tqdm\n",
    "except:\n",
    "    !pip install tqdm\n",
    "    from tqdm import tqdm\n",
    "\n",
    "\n",
    "\n",
    "\n",
    "import functions as f\n",
    "import func_generator as fg\n",
    "\n",
    "\n",
    "from GA import GA\n",
    "import PARAMS as P\n",
    "from Base import Base\n",
    "\n",
    "\n",
    "import random\n",
    "import numpy as np\n",
    "from matplotlib import pyplot as plt\n",
    "\n",
    "\n",
    "######################################################################################\n",
    "func_list = np.array([f.linear, f.sin, f.ln, f.sqrt, f.my_abs, f.sqr, f.hyper, f.exp])"
   ]
  },
  {
   "cell_type": "markdown",
   "metadata": {},
   "source": [
    "\n",
    "\n",
    "\n",
    "\n",
    "\n",
    "\n",
    "\n",
    "\n",
    "\n"
   ]
  },
  {
   "cell_type": "markdown",
   "metadata": {},
   "source": [
    "\n",
    "\n",
    "\n",
    "\n",
    "\n",
    "\n",
    "\n",
    "\n",
    "\n"
   ]
  },
  {
   "cell_type": "markdown",
   "metadata": {},
   "source": [
    "\n",
    "\n",
    "\n",
    "\n",
    "\n",
    "\n",
    "\n",
    "\n",
    "\n"
   ]
  },
  {
   "cell_type": "markdown",
   "metadata": {},
   "source": [
    "\n",
    "\n",
    "\n",
    "\n",
    "\n",
    "\n",
    "\n",
    "\n",
    "\n"
   ]
  },
  {
   "cell_type": "markdown",
   "metadata": {},
   "source": [
    "\n",
    "\n",
    "\n",
    "\n",
    "\n",
    "\n",
    "\n",
    "\n",
    "\n"
   ]
  },
  {
   "cell_type": "markdown",
   "metadata": {},
   "source": [
    "# Настройка области определения"
   ]
  },
  {
   "cell_type": "code",
   "execution_count": 2,
   "metadata": {},
   "outputs": [],
   "source": [
    "#Граници по оси Х\n",
    "left_border = 0 #от\n",
    "right_border = 100 #до\n",
    "\n",
    "\n",
    "##########\n",
    "interval = [left_border, right_border]"
   ]
  },
  {
   "cell_type": "markdown",
   "metadata": {},
   "source": [
    "# Генерация функции"
   ]
  },
  {
   "cell_type": "code",
   "execution_count": 3,
   "metadata": {},
   "outputs": [
    {
     "name": "stdout",
     "output_type": "stream",
     "text": [
      " +1.0000000000 × (1.000000x +0.000000)²  +0.000000\n"
     ]
    },
    {
     "data": {
      "image/png": "[encoded data removed]",
      "text/plain": [
       "<Figure size 432x288 with 1 Axes>"
      ]
     },
     "metadata": {
      "needs_background": "light"
     },
     "output_type": "display_data"
    }
   ],
   "source": [
    "#0 - прямая\n",
    "#1- синус\n",
    "#2 - логарифм\n",
    "#3 - квадратный корень\n",
    "#4 - модуль\n",
    "#5 - квадрат\n",
    "#6 - куб\n",
    "#7 - экспонента\n",
    "f = 5\n",
    "\n",
    "\n",
    "# ax - на это число будет умножаться х\n",
    "# dx - прибавляется к ax*x\n",
    "# a - на это число умножается рез-тат\n",
    "# dy - смещение по оси y\n",
    "### т.е. f(x) = a*h(ax*x+dx) + dy    (h - базовая ф-я... выбирается выше)\n",
    "ax = 1.\n",
    "dx = 0.\n",
    "a  = 1\n",
    "dy = 0\n",
    "\n",
    "\n",
    "####################\n",
    "#Описываем функцию\n",
    "h_str = ' {:+3.10f} × {} '.format(\n",
    "        a, \n",
    "        P.func_name[func_list[f]].format('{:-3.6f}x {:+3.6f}'.format(ax,dx))\n",
    "    ) + ' {:+3.6f}'.format(dy)\n",
    "\n",
    "\n",
    "#Генерируем саму ф-ю\n",
    "f_genotip = [[0,0,0,0] for i in func_list]\n",
    "f_genotip[f][:] = [dx, ax, a, dy]\n",
    "f = Base[\"funcs\"][\"assembly\"](f_genotip, func_list)\n",
    "\n",
    "plt.grid()\n",
    "plt.xlabel('X')\n",
    "plt.ylabel('Y')\n",
    "\n",
    "plt.plot(np.linspace(interval[0],interval[1],10000),\n",
    "         [f(x) for x in np.linspace(interval[0],interval[1],10000)]\n",
    ")\n",
    "\n",
    "\n",
    "print(h_str)\n",
    "plt.show()"
   ]
  },
  {
   "cell_type": "markdown",
   "metadata": {},
   "source": [
    "# Настройка генерации датасета"
   ]
  },
  {
   "cell_type": "code",
   "execution_count": 4,
   "metadata": {},
   "outputs": [
    {
     "data": {
      "image/png": "[encoded data removed]",
      "text/plain": [
       "<Figure size 432x288 with 1 Axes>"
      ]
     },
     "metadata": {
      "needs_background": "light"
     },
     "output_type": "display_data"
    }
   ],
   "source": [
    "dots_count = 100   # число точек в датасете\n",
    "noise      = 0.05   # величина шума (чем больше - тем зашумлённей данные)\n",
    "\n",
    "\n",
    "\n",
    "####################\n",
    "# Создаём датасет\n",
    "data = fg.generate_dataset(f, dots_count = dots_count, x_range = interval, noise_ratio = noise)\n",
    "\n",
    "plt.grid()\n",
    "plt.xlabel('X')\n",
    "plt.ylabel('Y')\n",
    "\n",
    "plt.plot(np.linspace(interval[0],interval[1],10000),\n",
    "         [f(x) for x in np.linspace(interval[0],interval[1],10000)],\n",
    "         'r'\n",
    ")\n",
    "plt.plot(data[0], data[1], '.g', alpha = 0.9)\n",
    "plt.show()"
   ]
  },
  {
   "cell_type": "markdown",
   "metadata": {},
   "source": [
    "# Задание параметров алгоритма\n",
    "\n",
    "Инструкция по настройке:\n",
    "tip - какой вариант алгоритма будет использоваться, может принимать значения:\n",
    "- 0 - первая версия (выбираем 2 лучших представителя, делаем кучу копий, в каждой копии заменяем по одному нуклеотиду)\n",
    "- 1 - Канонический ГА\n",
    "- 2 - Генитор\n",
    "- 3 - СНС\n",
    "- 4 - С нефиксированным размером популяции (оооооооооочень медленный)\n",
    "\n",
    "steps - число итераций в алгоритме"
   ]
  },
  {
   "cell_type": "code",
   "execution_count": 5,
   "metadata": {},
   "outputs": [
    {
     "name": "stderr",
     "output_type": "stream",
     "text": [
      "100%|██████████| 10000/10000 [04:47<00:00, 34.83it/s]\n"
     ]
    },
    {
     "name": "stdout",
     "output_type": "stream",
     "text": [
      "h(x) =   +0.4556218281 × (0.238579x +0.284924) \n",
      " +0.2898521750 × sin(0.237154x +1.053331) \n",
      " +4.1141043759 × ln(0.040572x +0.633658) \n",
      " +1.6880749914 × √(0.190779x -0.785262) \n",
      " +2.8990368983 × |0.086014x -2.171397| \n",
      " +0.8761098529 × (0.195201x +1.329147)² \n",
      " +1.8136442067 × (0.287397x +0.061989)³ \n",
      " +0.3213847935 × exp(0.034120x +0.145945) \n",
      " -8.062606\n",
      "\n",
      "Значение целевой функции:\n",
      "h_pr = [19.06324037];\n",
      "f_pr = [0.24192815]\n",
      "\n",
      "СКО:\n",
      "h_sko = [0.43661471];\n",
      "f_sko = [0.04918619]\n"
     ]
    },
    {
     "data": {
      "image/png": "[encoded data removed]",
      "text/plain": [
       "<Figure size 432x288 with 1 Axes>"
      ]
     },
     "metadata": {
      "needs_background": "light"
     },
     "output_type": "display_data"
    }
   ],
   "source": [
    "tip = 2 #от 0 до 4\n",
    "steps = 10000\n",
    "\n",
    "\n",
    "##########################################################\n",
    "##########################################################\n",
    "##########################################################\n",
    "h, h_pr, h_str = Base[\"funcs\"][\"Go\"](GA[tip], func_list, data, steps)\n",
    "\n",
    "X = np.linspace(interval[0], interval[1], 10000)\n",
    "fY = [f(x) for x in X]\n",
    "hY = [h(x) for x in X]\n",
    "\n",
    "plt.grid()\n",
    "plt.xlabel('X')\n",
    "plt.ylabel('Y')\n",
    "\n",
    "plt.plot(X, fY, 'r')\n",
    "plt.plot(X, hY, 'g', alpha = 0.99)\n",
    "plt.plot(data[0], data[1], '.b', alpha = 0.75)\n",
    "\n",
    "print('h(x) = ', h_str)\n",
    "\n",
    "print(\"\\nЗначение целевой функции:\")\n",
    "print('h_pr = {};\\nf_pr = {}'.format(h_pr, Base[\"funcs\"][\"E\"](data[1],[f(x)for x in data[0]])))\n",
    "\n",
    "print(\"\\nСКО:\")\n",
    "print('h_sko = {};\\nf_sko = {}'.format(\n",
    "    (h_pr/len(data[0]))**0.5, \n",
    "    (Base[\"funcs\"][\"E\"](data[1],[f(x)for x in data[0]])/len(data[0]))**0.5\n",
    "))\n",
    "\n",
    "plt.show()"
   ]
  }
 ],
 "metadata": {
  "kernelspec": {
   "display_name": "Python 3",
   "language": "python",
   "name": "python3"
  },
  "language_info": {
   "codemirror_mode": {
    "name": "ipython",
    "version": 3
   },
   "file_extension": ".py",
   "mimetype": "text/x-python",
   "name": "python",
   "nbconvert_exporter": "python",
   "pygments_lexer": "ipython3",
   "version": "3.7.7"
  }
 },
 "nbformat": 4,
 "nbformat_minor": 2
}
