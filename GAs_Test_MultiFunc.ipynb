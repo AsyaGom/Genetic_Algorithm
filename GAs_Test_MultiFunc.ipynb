{
 "cells": [
  {
   "cell_type": "markdown",
   "metadata": {},
   "source": [
    "# Для самостоятельного задания всех функций"
   ]
  },
  {
   "cell_type": "code",
   "execution_count": 1,
   "metadata": {},
   "outputs": [],
   "source": [
    "#Велосипед, если не установлен модуль\n",
    "try:\n",
    "    from tqdm import tqdm\n",
    "except:\n",
    "    !pip install tqdm\n",
    "    from tqdm import tqdm\n",
    "\n",
    "\n",
    "\n",
    "\n",
    "import functions as f\n",
    "import func_generator as fg\n",
    "\n",
    "\n",
    "from GA import GA\n",
    "import PARAMS as P\n",
    "from Base import Base\n",
    "\n",
    "\n",
    "import random\n",
    "import numpy as np\n",
    "from matplotlib import pyplot as plt\n",
    "\n",
    "\n",
    "######################################################################################\n",
    "func_list = np.array([f.linear, f.sin, f.ln, f.sqrt, f.my_abs, f.sqr, f.hyper])#, f.exp])"
   ]
  },
  {
   "cell_type": "markdown",
   "metadata": {},
   "source": [
    "\n",
    "\n",
    "\n",
    "\n",
    "\n",
    "\n",
    "\n",
    "\n",
    "\n"
   ]
  },
  {
   "cell_type": "markdown",
   "metadata": {},
   "source": [
    "\n",
    "\n",
    "\n",
    "\n",
    "\n",
    "\n",
    "\n",
    "\n",
    "\n"
   ]
  },
  {
   "cell_type": "markdown",
   "metadata": {},
   "source": [
    "\n",
    "\n",
    "\n",
    "\n",
    "\n",
    "\n",
    "\n",
    "\n",
    "\n"
   ]
  },
  {
   "cell_type": "markdown",
   "metadata": {},
   "source": [
    "\n",
    "\n",
    "\n",
    "\n",
    "\n",
    "\n",
    "\n",
    "\n",
    "\n"
   ]
  },
  {
   "cell_type": "markdown",
   "metadata": {},
   "source": [
    "\n",
    "\n",
    "\n",
    "\n",
    "\n",
    "\n",
    "\n",
    "\n",
    "\n"
   ]
  },
  {
   "cell_type": "markdown",
   "metadata": {},
   "source": [
    "# Настройка области определения"
   ]
  },
  {
   "cell_type": "code",
   "execution_count": 2,
   "metadata": {},
   "outputs": [],
   "source": [
    "#Граници по оси Х\n",
    "left_border = 0 #от\n",
    "right_border = 100 #до\n",
    "\n",
    "\n",
    "##########\n",
    "interval = [left_border, right_border]"
   ]
  },
  {
   "cell_type": "markdown",
   "metadata": {},
   "source": [
    "# Генерация функции"
   ]
  },
  {
   "cell_type": "code",
   "execution_count": 3,
   "metadata": {},
   "outputs": [
    {
     "name": "stdout",
     "output_type": "stream",
     "text": [
      " +1.0000000000 × (1.000000x +0.000000) \n",
      " +10.0000000000 × sin(1.000000x +0.000000) \n",
      " +0.000000\n"
     ]
    },
    {
     "data": {
      "image/png": "[encoded data removed]",
      "text/plain": [
       "<Figure size 432x288 with 1 Axes>"
      ]
     },
     "metadata": {
      "needs_background": "light"
     },
     "output_type": "display_data"
    }
   ],
   "source": [
    "# ax - на это число будет умножаться х\n",
    "# dx - прибавляется к ax*x\n",
    "# a - на это число умножается рез-тат\n",
    "# dy - смещение по оси y\n",
    "### т.е. f(x) = a*h(ax*x+dx) + dy    (h - базовая ф-я... выбирается выше)\n",
    "\n",
    "#0 - прямая\n",
    "ax0 = 1.\n",
    "dx0 = 0.\n",
    "a0  = 1\n",
    "dy0 = 0\n",
    "\n",
    "#1- синус\n",
    "ax1 = 1.\n",
    "dx1 = 0.\n",
    "a1  = 10\n",
    "dy1 = 0\n",
    "\n",
    "#2 - логарифм\n",
    "ax2 = 0.\n",
    "dx2 = 0.\n",
    "a2  = 0\n",
    "dy2 = 0\n",
    "\n",
    "#3 - квадратный корень\n",
    "ax3 = 0.\n",
    "dx3 = 0.\n",
    "a3  = 0\n",
    "dy3 = 0\n",
    "\n",
    "#4 - модуль\n",
    "ax4 = 0.\n",
    "dx4 = 0.\n",
    "a4  = 0\n",
    "dy4 = 0\n",
    "\n",
    "#5 - квадрат\n",
    "ax5 = 0.\n",
    "dx5 = 0.\n",
    "a5  = 0\n",
    "dy5 = 0\n",
    "\n",
    "#6 - куб\n",
    "ax6 = 0.\n",
    "dx6 = 0.\n",
    "a6  = 0\n",
    "dy6 = 0\n",
    "\n",
    "#7 - экспонента\n",
    "ax7 = 0.\n",
    "dx7 = 0.\n",
    "a7  = 0\n",
    "dy7 = 0\n",
    "\n",
    "\n",
    "\n",
    "##############################\n",
    "##############################\n",
    "#Генерируем саму ф-ю\n",
    "f_genotip = [\n",
    "    [dx0, ax0, a0, dy0],\n",
    "    [dx1, ax1, a1, dy1],\n",
    "    [dx2, ax2, a2, dy2],\n",
    "    [dx3, ax3, a3, dy3],\n",
    "    [dx4, ax4, a4, dy4],\n",
    "    [dx5, ax5, a5, dy5],\n",
    "    [dx6, ax6, a6, dy6],\n",
    "    [dx7, ax7, a7, dy7],\n",
    "    \n",
    "]\n",
    "f = Base[\"funcs\"][\"assembly\"](f_genotip, func_list)\n",
    "\n",
    "\n",
    "#Кусок для написания получившейся функции\n",
    "h_str = ''\n",
    "dy = 0\n",
    "for hrom, func in zip(f_genotip, func_list):\n",
    "    if hrom[2]==0: continue\n",
    "\n",
    "    dy += hrom[-1]\n",
    "    h_str += ' {:+3.10f} × {} \\n'.format(\n",
    "        hrom[2], \n",
    "        P.func_name[func].format('{:-3.6f}x {:+3.6f}'.format(hrom[1],hrom[0]))\n",
    "    )\n",
    "print(h_str + ' {:+3.6f}'.format(dy))\n",
    "\n",
    "plt.grid()\n",
    "plt.xlabel('X')\n",
    "plt.ylabel('Y')\n",
    "\n",
    "plt.plot(np.linspace(interval[0],interval[1],10000),\n",
    "         [f(x) for x in np.linspace(interval[0],interval[1],10000)]\n",
    ")\n",
    "plt.show()"
   ]
  },
  {
   "cell_type": "markdown",
   "metadata": {},
   "source": [
    "# Настройка генерации датасета"
   ]
  },
  {
   "cell_type": "code",
   "execution_count": 4,
   "metadata": {},
   "outputs": [
    {
     "data": {
      "image/png": "[encoded data removed]",
      "text/plain": [
       "<Figure size 432x288 with 1 Axes>"
      ]
     },
     "metadata": {
      "needs_background": "light"
     },
     "output_type": "display_data"
    }
   ],
   "source": [
    "dots_count = 100   # число точек в датасете\n",
    "noise      = 0.05   # величина шума (чем больше - тем зашумлённей данные)\n",
    "\n",
    "\n",
    "\n",
    "####################\n",
    "# Создаём датасет\n",
    "data = fg.generate_dataset(f, dots_count = dots_count, x_range = interval, noise_ratio = noise)\n",
    "\n",
    "plt.grid()\n",
    "plt.xlabel('X')\n",
    "plt.ylabel('Y')\n",
    "\n",
    "plt.plot(np.linspace(interval[0],interval[1],10000),\n",
    "         [f(x) for x in np.linspace(interval[0],interval[1],10000)],\n",
    "         'r'\n",
    ")\n",
    "plt.plot(data[0], data[1], '.g', alpha = 0.9)\n",
    "plt.show()"
   ]
  },
  {
   "cell_type": "markdown",
   "metadata": {},
   "source": [
    "# Задание параметров алгоритма\n",
    "\n",
    "Инструкция по настройке:\n",
    "tip - какой вариант алгоритма будет использоваться, может принимать значения:\n",
    "- 0 - первая версия (выбираем 2 лучших представителя, делаем кучу копий, в каждой копии заменяем по одному нуклеотиду)\n",
    "- 1 - Канонический ГА\n",
    "- 2 - Генитор\n",
    "- 3 - СНС\n",
    "- 4 - С нефиксированным размером популяции (оооооооооочень медленный)\n",
    "\n",
    "steps - число итераций в алгоритме"
   ]
  },
  {
   "cell_type": "code",
   "execution_count": 5,
   "metadata": {
    "scrolled": false
   },
   "outputs": [
    {
     "name": "stderr",
     "output_type": "stream",
     "text": [
      "100%|██████████| 10000/10000 [04:41<00:00, 35.55it/s]\n"
     ]
    },
    {
     "name": "stdout",
     "output_type": "stream",
     "text": [
      "h(x) =   +0.9889152863 × (0.690836x -0.026104) \n",
      " +10.0344459493 × sin(0.999176x +0.045037) \n",
      " +1.5545829260 × ln(0.226886x +3.235580) \n",
      " +0.7364234119 × √(2.866949x +2.641340) \n",
      " +0.0092452554 × |2.259515x +0.048987| \n",
      " +0.5145773018 × (0.325588x +1.459320)² \n",
      " +1.4274721012 × (0.085222x +0.905453)³ \n",
      " -6.560276\n",
      "\n",
      "Значение целевой функции:\n",
      "h_pr = [10.63812194];\n",
      "f_pr = [0.19307265]\n",
      "\n",
      "СКО:\n",
      "h_sko = [0.32616134];\n",
      "f_sko = [0.04394003]\n"
     ]
    },
    {
     "data": {
      "image/png": "[encoded data removed]",
      "text/plain": [
       "<Figure size 432x288 with 1 Axes>"
      ]
     },
     "metadata": {
      "needs_background": "light"
     },
     "output_type": "display_data"
    }
   ],
   "source": [
    "tip = 2 #от 0 до 4\n",
    "steps = 10000\n",
    "\n",
    "\n",
    "##########################################################\n",
    "##########################################################\n",
    "##########################################################\n",
    "h, h_pr, h_str = Base[\"funcs\"][\"Go\"](GA[tip], func_list, data, steps)\n",
    "\n",
    "X = np.linspace(interval[0], interval[1], 10000)\n",
    "fY = [f(x) for x in X]\n",
    "hY = [h(x) for x in X]\n",
    "\n",
    "plt.grid()\n",
    "plt.xlabel('X')\n",
    "plt.ylabel('Y')\n",
    "\n",
    "plt.plot(X, fY, 'r')\n",
    "plt.plot(X, hY, 'g', alpha = 0.99)\n",
    "plt.plot(data[0], data[1], '.b', alpha = 0.75)\n",
    "\n",
    "print('h(x) = ', h_str)\n",
    "\n",
    "print(\"\\nЗначение целевой функции:\")\n",
    "print('h_pr = {};\\nf_pr = {}'.format(h_pr, Base[\"funcs\"][\"E\"](data[1],[f(x)for x in data[0]])))\n",
    "\n",
    "print(\"\\nСКО:\")\n",
    "print('h_sko = {};\\nf_sko = {}'.format(\n",
    "    (h_pr/len(data[0]))**0.5, \n",
    "    (Base[\"funcs\"][\"E\"](data[1],[f(x)for x in data[0]])/len(data[0]))**0.5\n",
    "))\n",
    "\n",
    "plt.show()"
   ]
  }
 ],
 "metadata": {
  "kernelspec": {
   "display_name": "Python 3",
   "language": "python",
   "name": "python3"
  },
  "language_info": {
   "codemirror_mode": {
    "name": "ipython",
    "version": 3
   },
   "file_extension": ".py",
   "mimetype": "text/x-python",
   "name": "python",
   "nbconvert_exporter": "python",
   "pygments_lexer": "ipython3",
   "version": "3.7.7"
  }
 },
 "nbformat": 4,
 "nbformat_minor": 2
}
